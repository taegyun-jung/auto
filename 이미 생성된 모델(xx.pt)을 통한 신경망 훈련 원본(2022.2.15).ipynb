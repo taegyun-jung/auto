{
 "cells": [
  {
   "cell_type": "markdown",
   "id": "14e72418",
   "metadata": {},
   "source": [
    "# 1. yolov5 설치"
   ]
  },
  {
   "cell_type": "code",
   "execution_count": null,
   "id": "0c7a5b2f",
   "metadata": {},
   "outputs": [],
   "source": [
    "#clone YOLOv5 and torch\n",
    "!git clone https://github.com/ultralytics/yolov5  # clone repo\n",
    "%cd yolov5\n",
    "%pip install -qr requirements.txt # install dependencies\n",
    "\n",
    "import torch\n",
    "from yolov5 import utils\n",
    "display = utils.notebook_init()  # checks"
   ]
  },
  {
   "cell_type": "markdown",
   "id": "cb76f333",
   "metadata": {},
   "source": [
    "# 2. 이미 구한 모델로 신경망 훈련(동영상)"
   ]
  },
  {
   "cell_type": "code",
   "execution_count": null,
   "id": "7bf04b40",
   "metadata": {},
   "outputs": [],
   "source": [
    "# - yolov5--data -- coco128.yaml에서 더블클릭하여 내용 수정\n",
    "# - 구한 모델값과 훈련시킬 동영상을 colab에 올린다.\n",
    "# - 모델과 동영상의 위치경로를 잘 확인한다."
   ]
  },
  {
   "cell_type": "code",
   "execution_count": null,
   "id": "9b29090c",
   "metadata": {},
   "outputs": [],
   "source": [
    "!python detect.py --weights /content/helmet.pt --img 640 --conf 0.25 --source /content/helmet_4m.mp4"
   ]
  },
  {
   "cell_type": "code",
   "execution_count": null,
   "id": "17773781",
   "metadata": {},
   "outputs": [],
   "source": [
    "!ls data/images"
   ]
  }
 ],
 "metadata": {
  "kernelspec": {
   "display_name": "Python 3 (ipykernel)",
   "language": "python",
   "name": "python3"
  },
  "language_info": {
   "codemirror_mode": {
    "name": "ipython",
    "version": 3
   },
   "file_extension": ".py",
   "mimetype": "text/x-python",
   "name": "python",
   "nbconvert_exporter": "python",
   "pygments_lexer": "ipython3",
   "version": "3.9.7"
  }
 },
 "nbformat": 4,
 "nbformat_minor": 5
}
